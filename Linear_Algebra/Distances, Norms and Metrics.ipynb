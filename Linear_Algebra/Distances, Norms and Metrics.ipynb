{
 "cells": [
  {
   "cell_type": "markdown",
   "metadata": {},
   "source": [
    "## Distance (or L2 Norm / Metric)\n",
    "\n",
    "The distance between two points $(x_1, y_1)$ and $(x_2, y_2)$ is given by:\n",
    "\n",
    "$$\\|(x_2, y_2)-(x_1, y_1)\\|= d = \\sqrt{(x_2-x_1)^2+(y_2-y_1)^2}$$\n",
    "\n",
    "We use the bars $\\|\\cdot\\|$ to mean \"distance\".\n",
    "\n",
    "We can extend this to as many dimensions as we want:\n",
    "\n",
    "$$\\|(x_2, y_2, z_2, w_2)-(x_1, y_1, z_1, w_1)\\|= d = \\sqrt{(x_2-x_1)^2+(y_2-y1)^2+(z_2-z_1)^2+(w_2-w_1)^2}$$\n",
    "\n",
    "For example:\n",
    "\n",
    "$$\\|(4, 3)-(3,-1)\\|= d = \\sqrt{(4-1)^2+(3+1)^2}= \\sqrt{25} = 5$$\n"
   ]
  },
  {
   "cell_type": "code",
   "execution_count": 3,
   "metadata": {},
   "outputs": [
    {
     "data": {
      "text/plain": [
       "5.0"
      ]
     },
     "execution_count": 3,
     "metadata": {},
     "output_type": "execute_result"
    }
   ],
   "source": [
    "import numpy as np\n",
    "from numpy.linalg import *\n",
    "\n",
    "## In Python:\n",
    "## Let's define two points: \n",
    "\n",
    "a=np.array([4,3])\n",
    "b=np.array([1,-1])\n",
    "\n",
    "##and find the distance between them:\n",
    "norm(a-b)\n",
    "\n"
   ]
  },
  {
   "cell_type": "code",
   "execution_count": 4,
   "metadata": {},
   "outputs": [
    {
     "data": {
      "image/png": "[encoded data removed]",
      "text/plain": [
       "<Figure size 432x288 with 1 Axes>"
      ]
     },
     "metadata": {
      "needs_background": "light"
     },
     "output_type": "display_data"
    }
   ],
   "source": [
    "## And let's graph it:\n",
    "\n",
    "import matplotlib.pyplot as plt \n",
    "\n",
    "plt.plot([a[0],b[0]], [a[1],b[1]], 'red', linestyle='-', marker='*')\n",
    "\n",
    "\n",
    "plt.axis('equal')  ## This is important to get the display correct\n",
    "plt.title('Distance between 2 points') \n",
    "\n",
    "plt.xticks(range(-1,8))\n",
    "plt.yticks(range(-5,8))\n",
    "\n",
    "\n",
    "# Show plot with grid \n",
    "plt.grid() \n",
    "\n",
    "##always important to actually display!\n",
    "plt.show() "
   ]
  },
  {
   "cell_type": "markdown",
   "metadata": {},
   "source": [
    "## Wait, isn't that a vector?\n",
    "\n",
    "Yes.  Yes it is.  Hopefully, you can see that the distance betweeen 2 points is the magnituge of the vector found by subtracting one from the other.  Phew!\n",
    "\n",
    "But what this (should) lead to is...  Are there different ways of finding distance?  What if you lived in Manhatten, and needed to drive - hten calculating a diagonal distance doesn't make much sense.\n",
    "\n",
    "I'm not going through a formal defintion, but we can develop math with the basic idea of \"distance\", then sub in any way of calculating distance that we choose.  \n",
    "\n",
    "### Definition of \"Distance\"\n",
    "\n",
    "* Commutes: $\\|a-b\\| = \\|b-a\\|$, that is, the order doesn't matter.\n",
    "* The triangle inequality: $\\|a-b\\| \\leq \\|a\\|+\\|b\\|$\n",
    "* Zero is special: if $\\|a-b\\| =0$, then $a=b$.\n",
    "\n",
    "## Manhattan Distance / Taxicab metric / L1-Norm\n",
    "\n",
    "Depending on where you read, this distance measure has many names.  I'm not going through a formal defintion, but we can develop math with the basic idea of \"distance\", then sub in any way of calculating distance that we choose.  \n",
    "\n",
    "Here, Instead of squaring and square rooting, we are going to take the absolute value:\n",
    "\n",
    "$$\\|(x_2, y_2)-(x_1, y_1)\\|= d = |x_2-x_1|+|y_2-y_1|$$\n",
    "\n",
    "so: \n",
    "\n",
    "$$\\|(4, 3)-(3,-1)\\|= d = |4-1|+|3+1|= 3+4 = 7$$"
   ]
  },
  {
   "cell_type": "code",
   "execution_count": 5,
   "metadata": {},
   "outputs": [
    {
     "name": "stdout",
     "output_type": "stream",
     "text": [
      "The Manhattan norm is  7.0\n"
     ]
    },
    {
     "data": {
      "image/png": "[encoded data removed]",
      "text/plain": [
       "<Figure size 432x288 with 1 Axes>"
      ]
     },
     "metadata": {
      "needs_background": "light"
     },
     "output_type": "display_data"
    }
   ],
   "source": [
    "## Can I do this in Python?  Sure!  set ord = 1\n",
    "\n",
    "print(\"The Manhattan norm is \",norm(a-b, ord =1))\n",
    "\n",
    "#graphically:\n",
    "\n",
    "\n",
    "\n",
    "##put in our old distance in red\n",
    "plt.plot([a[0],b[0]], [a[1],b[1]], 'red', linestyle='-', marker='*')\n",
    "\n",
    "## first we go along the x axis, 3 blocks  (in blue)\n",
    "plt.quiver(b[0], b[1], (a[0]-b[0]), 0, color='b', units='xy', scale=1) \n",
    "\n",
    "##then we go up 4 blocks:\n",
    "#plt.quiver(b[0], b[1], (a[0]-b[0]), 0, color='b', units='xy', scale=1) \n",
    "\n",
    "plt.quiver(a[0],b[1], 0,(a[1]-b[1]),  color='g', units='xy', scale=1) \n",
    "\n",
    "\n",
    "plt.axis('equal')  ## This is important to get the display correct\n",
    "plt.title('Manhattan Distance between 2 points') \n",
    "\n",
    "plt.xticks(range(-1,8))\n",
    "plt.yticks(range(-5,8))\n",
    "\n",
    "\n",
    "# Show plot with grid \n",
    "plt.grid() \n",
    "\n",
    "##always important to actually display!\n",
    "plt.show() "
   ]
  },
  {
   "cell_type": "markdown",
   "metadata": {},
   "source": [
    "## Now that looks like a triangle!\n",
    "\n",
    "But it's 7 blocks - 3 to the right, and 4 up.  Phew!  Are there more?\n"
   ]
  },
  {
   "cell_type": "markdown",
   "metadata": {},
   "source": [
    "## What about L3?\n",
    "\n",
    "The L3 distance between two points $(x_1, y_1)$ and $(x_2, y_2)$ is given by:\n",
    "\n",
    "$$\\|(x_2, y_2)-(x_1, y_1)\\|= d = \\sqrt[3]{(x_2-x_1)^3+(y_2-y_1)^3}$$\n",
    "\n",
    "\n",
    "For example:\n",
    "\n",
    "$$\\|(4, 3)-(3,-1)\\|= d = \\sqrt[3]{(4-1)^3+(3+1)^3}= \\sqrt[3]{4.4979} = ?$$\n"
   ]
  },
  {
   "cell_type": "code",
   "execution_count": 17,
   "metadata": {},
   "outputs": [
    {
     "name": "stdout",
     "output_type": "stream",
     "text": [
      "Using arithmatic, the answer is  4.497941445275415\n",
      "The L3 norm is  4.497941445275415\n"
     ]
    }
   ],
   "source": [
    "## Try ord = 3.....  \n",
    "\n",
    "## arithmatic from above:\n",
    "\n",
    "ans = ((3)**3+(4)**3)**(1/3)\n",
    "\n",
    "print(\"Using arithmatic, the answer is \", ans)\n",
    "##Can I do this in Python?  Sure!  set ord = 3\n",
    "\n",
    "print(\"The L3 norm is \",norm(a-b, ord =3))\n",
    "\n"
   ]
  }
 ],
 "metadata": {
  "kernelspec": {
   "display_name": "Python 3",
   "language": "python",
   "name": "python3"
  },
  "language_info": {
   "codemirror_mode": {
    "name": "ipython",
    "version": 3
   },
   "file_extension": ".py",
   "mimetype": "text/x-python",
   "name": "python",
   "nbconvert_exporter": "python",
   "pygments_lexer": "ipython3",
   "version": "3.7.4"
  }
 },
 "nbformat": 4,
 "nbformat_minor": 2
}
