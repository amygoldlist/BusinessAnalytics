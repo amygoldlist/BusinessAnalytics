{
 "cells": [
  {
   "cell_type": "markdown",
   "metadata": {},
   "source": [
    "## Step 1: two dimensional data\n",
    "\n",
    "Look at the first dataset: \"cluster_data_file.csv\", and answer the questions in the following cells:"
   ]
  },
  {
   "cell_type": "code",
   "execution_count": 1,
   "metadata": {},
   "outputs": [],
   "source": [
    "## In this cell, import any library that you use.  \n",
    "## It's ok to change this as you work, just be sure to run the full file when you are done.\n",
    "\n"
   ]
  },
  {
   "cell_type": "code",
   "execution_count": 2,
   "metadata": {},
   "outputs": [],
   "source": [
    "## In this cell, read in the dataset that you are using, and inspect it\n"
   ]
  },
  {
   "cell_type": "markdown",
   "metadata": {},
   "source": [
    "1. What are the dimensions of the dataset? (shape)\n",
    "2. What are the ranges of each variable? (min and max)\n",
    "3. In the following cell, visualize the data in a simple scatterplot.\n"
   ]
  },
  {
   "cell_type": "code",
   "execution_count": 3,
   "metadata": {},
   "outputs": [],
   "source": [
    "## Visualization goes here"
   ]
  },
  {
   "cell_type": "markdown",
   "metadata": {},
   "source": [
    "4. How many clusters do you think there are?\n"
   ]
  },
  {
   "cell_type": "code",
   "execution_count": 4,
   "metadata": {},
   "outputs": [],
   "source": [
    "## Cluster!  use k-means with k = 3 through 8 clusters, and visualize this.\n",
    "## Use teh silhouette score to see which k is best.  is it the one you thought it was?\n",
    "## The k-means sample code in the previous week will be quite helpful.\n",
    "\n"
   ]
  },
  {
   "cell_type": "markdown",
   "metadata": {},
   "source": [
    "5. Mathematically show which model is best."
   ]
  },
  {
   "cell_type": "markdown",
   "metadata": {},
   "source": [
    "## Part Two: more dimensions!\n",
    "\n",
    "Load up \"Cluster_data_2.csv\", and describe the shape of the data.\n",
    "Look at at least 5 different cluster models (different hyperparameters make for a different model).  Pick your best one, and illustrate it with a dendogram. \n",
    "Normalize the data, and then repeat your model selction process.  "
   ]
  },
  {
   "cell_type": "code",
   "execution_count": 5,
   "metadata": {},
   "outputs": [],
   "source": [
    "## Create more cells as needed"
   ]
  },
  {
   "cell_type": "markdown",
   "metadata": {},
   "source": [
    "Explain how you chose your best model, including whether claing the data helped or not."
   ]
  },
  {
   "cell_type": "code",
   "execution_count": null,
   "metadata": {},
   "outputs": [],
   "source": []
  }
 ],
 "metadata": {
  "kernelspec": {
   "display_name": "Python 3",
   "language": "python",
   "name": "python3"
  },
  "language_info": {
   "codemirror_mode": {
    "name": "ipython",
    "version": 3
   },
   "file_extension": ".py",
   "mimetype": "text/x-python",
   "name": "python",
   "nbconvert_exporter": "python",
   "pygments_lexer": "ipython3",
   "version": "3.7.4"
  }
 },
 "nbformat": 4,
 "nbformat_minor": 2
}
