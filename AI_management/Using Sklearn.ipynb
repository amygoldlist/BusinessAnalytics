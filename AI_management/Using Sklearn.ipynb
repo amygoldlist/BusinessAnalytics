{
 "cells": [
  {
   "cell_type": "markdown",
   "metadata": {},
   "source": [
    "## Using Sklearn"
   ]
  },
  {
   "cell_type": "code",
   "execution_count": 3,
   "metadata": {},
   "outputs": [],
   "source": [
    "##We should start by loading any packages we will need, as well as any data.\n",
    "\n",
    "## We can import a full package, but I'm just goign to import some:\n",
    "\n",
    "## sklearn things we need:\n",
    "#from sklearn.neighbors import KNeighborsClassifier\n",
    "from sklearn import neighbors\n",
    "from sklearn.model_selection import train_test_split\n",
    "from sklearn import datasets\n",
    "\n",
    "# numpy and friends\n",
    "import numpy as np\n",
    "import matplotlib.pyplot as plt\n",
    "from scipy import stats\n",
    "%matplotlib inline\n",
    "\n",
    "## We don't need all of this, but it's good to get anything I need in the very first block."
   ]
  },
  {
   "cell_type": "code",
   "execution_count": 4,
   "metadata": {},
   "outputs": [
    {
     "name": "stdout",
     "output_type": "stream",
     "text": [
      "The X values are a 64 digit string: [ 0.  0.  4. 10. 16. 16.  7.  0.  0.  3. 16. 13. 11. 16.  2.  0.  0.  1.\n",
      "  3.  0. 10.  9.  0.  0.  0.  0.  5.  8. 14. 15. 13.  0.  0.  0. 15. 16.\n",
      " 14. 12.  8.  0.  0.  0.  3. 12.  7.  0.  0.  0.  0.  0.  0. 15.  4.  0.\n",
      "  0.  0.  0.  0.  3. 14.  1.  0.  0.  0.]\n",
      "and the y is the value of the number 7\n"
     ]
    },
    {
     "data": {
      "image/png": "[encoded data removed]",
      "text/plain": [
       "<Figure size 432x288 with 1 Axes>"
      ]
     },
     "metadata": {
      "needs_background": "light"
     },
     "output_type": "display_data"
    }
   ],
   "source": [
    "## Lets's start with the handwritten numbers that we've seen a lot of:\n",
    "\n",
    "digits = datasets.load_digits()\n",
    "\n",
    "X = digits['data']   # this is the data with each 8x8 image \"flattened\" into a length-64 vector.\n",
    "Y = digits['target'] # these are the labels (0-9). \n",
    "\n",
    "## Let's look at one number:\n",
    "## I've chosen randomly, but set n to any number under 1000\n",
    "\n",
    "\n",
    "n = 653\n",
    "\n",
    "plt.imshow(digits['images'][n], cmap='Greys_r')\n",
    "plt.title('This is a %d' % digits['target'][n])\n",
    "\n",
    "print(\"The X values are a 64 digit string:\", X[n])\n",
    "print(\"and the y is the value of the number\", Y[n])"
   ]
  },
  {
   "cell_type": "code",
   "execution_count": 5,
   "metadata": {},
   "outputs": [],
   "source": [
    "## The first step is to break the data into the training set, and the test set.  \n",
    "## Luckily, sklearn has you covered:\n",
    "\n",
    "X_train, X_test, Y_train, Y_test = train_test_split(X,Y, test_size=0.2)\n",
    "\n",
    "## test_size tells the algrithm that we want to reserve 20% for the test (or validation) set.  Try it!  \n",
    "## Now redo it with a test set at 30%"
   ]
  },
  {
   "cell_type": "markdown",
   "metadata": {},
   "source": [
    "## Assignment Questions\n",
    "\n",
    "1. How big is the full data set? How many numbers in training set?  How many are held back in the test set?  You should have 30% in your test set.\n",
    "2. What is the L1 distance between `X[15]` and `X[25]`?  (Manhattan)\n",
    "3. What is the L2 distance between `X[15]` and `X[25]`?  (Euclidean)\n",
    "4. What is the L3 distance between `X[15]` and `X[25]`?\n",
    "\n",
    "\n"
   ]
  },
  {
   "cell_type": "code",
   "execution_count": 1,
   "metadata": {},
   "outputs": [],
   "source": [
    "## Solutions\n",
    "\n"
   ]
  },
  {
   "cell_type": "code",
   "execution_count": 6,
   "metadata": {},
   "outputs": [
    {
     "name": "stdout",
     "output_type": "stream",
     "text": [
      "Object `KNeighborsClassifier` not found.\n"
     ]
    }
   ],
   "source": [
    "## Lets do it!\n",
    "\n",
    "\n",
    "## Run this to learn about the function:\n",
    "?KNeighborsClassifier\n",
    "\n",
    "## FYI: Minkowski distance means the Lp norm, so we can set p = 2 for Euclidean distance"
   ]
  },
  {
   "cell_type": "code",
   "execution_count": 7,
   "metadata": {},
   "outputs": [
    {
     "name": "stdout",
     "output_type": "stream",
     "text": [
      "The training error was:  0.016701461377870562\n",
      "The testing error was:  0.025\n"
     ]
    }
   ],
   "source": [
    "## For now, I'm going to set K = 3, and use the Euclidean or L2 norm.  \n",
    "\n",
    "#Pick a name for your model -> I'm going to use a random word: cupcake\n",
    "\n",
    "#step 1: let python know what algorithm I'm using:\n",
    "cupcake =neighbors.KNeighborsClassifier(n_neighbors=15, p =2 )\n",
    "#step 2: Train the model on ONLY THE TRAINING DATA (fit!)\n",
    "cupcake.fit(X_train,Y_train)\n",
    "\n",
    "\n",
    "##Now we have a well trained model!  But is it a good model?\n",
    "## I'm going to look at the errors in BOTH my training and test sets.  \n",
    "## We do this by predicting what Y will be for each set, than actually comparing\n",
    "\n",
    "Y_pred_train = cupcake.predict(X_train) \n",
    "Y_pred = cupcake.predict(X_test)\n",
    "\n",
    "##record errors\n",
    "error_train=list(Y_train == Y_pred_train).count(False)/len(Y_train)\n",
    "error_test=list(Y_test == Y_pred).count(False)/len(Y_test)\n",
    "\n",
    "##Look it over:\n",
    "print(\"The training error was: \", error_train)\n",
    "print(\"The testing error was: \", error_test)"
   ]
  },
  {
   "cell_type": "markdown",
   "metadata": {},
   "source": [
    "## Your turn:\n",
    "\n",
    "For this week, we are going to turn a blind eye to the fact that we are experimenting on the test data.  Try out different models!  Look at different $K$ values, and different $p$ values to see if you can find something that works better than others.  Can you automate this process using some loops or other tools?\n",
    "\n",
    "Explain your best model, and hand it in.  Expect that random change may affect different models.\n"
   ]
  },
  {
   "cell_type": "code",
   "execution_count": null,
   "metadata": {},
   "outputs": [],
   "source": []
  }
 ],
 "metadata": {
  "kernelspec": {
   "display_name": "Python 3",
   "language": "python",
   "name": "python3"
  },
  "language_info": {
   "codemirror_mode": {
    "name": "ipython",
    "version": 3
   },
   "file_extension": ".py",
   "mimetype": "text/x-python",
   "name": "python",
   "nbconvert_exporter": "python",
   "pygments_lexer": "ipython3",
   "version": "3.7.4"
  }
 },
 "nbformat": 4,
 "nbformat_minor": 2
}
